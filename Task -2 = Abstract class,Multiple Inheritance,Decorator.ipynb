{
 "cells": [
  {
   "cell_type": "markdown",
   "id": "d842b1c3",
   "metadata": {},
   "source": [
    "# Abstract Class"
   ]
  },
  {
   "cell_type": "code",
   "execution_count": null,
   "id": "125ea97b",
   "metadata": {},
   "outputs": [],
   "source": [
    "'''\n",
    "- Python does not support abstract classes directly but using ABC module we can achieve abstraction in python.\n",
    "- A method which has only declaration and dont have any defintion those methods are abstract methods.\n",
    "- A class which has abstract methods is called abstract classes.\n",
    "- We can not create object of abstract classes, but using inheritance we can achieve that/.\n",
    "\n",
    "- USE :-\n",
    "     -Achieve security - hide certain details and only show the important details of an object.\n",
    "     from abc import ABC,abstractmethod\n",
    "'''\n",
    "    class xyz_store(ABC):\n",
    "        @abstractmethod\n",
    "        def manufacture_price(self):\n",
    "            body_cost = 250\n",
    "            ink_cost = 40\n",
    "            government_intrest = 100\n",
    "            total_cost = body_cost+ink_cost+government_intrest\n",
    "            return (total_cost)\n",
    "\n",
    "    class qwe_store(xyz_store):\n",
    "        def manufacture_price(self):\n",
    "            rate = xyz_store.manufacture_price(self)\n",
    "            wholesale_rate = rate + 40\n",
    "            print(\"wholesale_rate:-\",wholesale_rate)\n",
    "\n",
    "    w_price = qwe_store()\n",
    "    w_price.manufacture_price()\n",
    "    \n",
    "    #Wholesale_rate:- 430\n",
    "    \n",
    "    # from above code we can say that end user can access manufacture_price() but he/she dont know how whats inside xyz.manufature_price().\n",
    "    #so,we achieve abstraction here.\n",
    "    "
   ]
  },
  {
   "cell_type": "markdown",
   "id": "74c5eb47",
   "metadata": {},
   "source": [
    "# Multiple inheritance"
   ]
  },
  {
   "cell_type": "code",
   "execution_count": null,
   "id": "37a4d4a9",
   "metadata": {},
   "outputs": [],
   "source": [
    "'''\n",
    "- It is the capability one class to take over the properties of the properties of another class/classes.\n",
    "- It provides reusability also\n",
    "- There are 5 types of inheritance in python:-\n",
    "    1.Single inheritance\n",
    "    2.Multilevel inheritance\n",
    "    3.Multiple inheritance\n",
    "    4.Hierachial inheritance\n",
    "    5.Hybrid inheritance\n",
    "    \n",
    "    2.Multiple inheritance:-\n",
    "        - When child class inherits more than one base class it is multiple inheritance.  \n",
    "'''\n",
    "    class car:\n",
    "        def car_name(self,a):\n",
    "            self.a = a\n",
    "            print(\"car_name:-\",self.a)\n",
    "\n",
    "    class engine:\n",
    "        def engine_type(self,b):\n",
    "            self.b = b\n",
    "            print(\"Engine_type:-\",self.b)\n",
    "\n",
    "    class model(manu_price,gst_price):\n",
    "            pass\n",
    "\n",
    "    m = model()\n",
    "    m.car_name(\"Kia-sonet\")\n",
    "    m.engine_type(\"Diesel\")\n",
    "\n",
    "    #car_name:- Kia-sonet\n",
    "    #Engine_type:- Diesel\n",
    "\n",
    "    # In above example we are accessing multiple classes like car and engine in model class."
   ]
  },
  {
   "cell_type": "markdown",
   "id": "3c999838",
   "metadata": {},
   "source": [
    "# Decorator"
   ]
  },
  {
   "cell_type": "code",
   "execution_count": 101,
   "id": "a077c77c",
   "metadata": {},
   "outputs": [
    {
     "name": "stdout",
     "output_type": "stream",
     "text": [
      "Inside b-1\n",
      "Inside c\n",
      "Inside b-2\n"
     ]
    }
   ],
   "source": [
    "'''\n",
    "Decorator = calling function inside a function and passing function as parameter. \n",
    "'''\n",
    "    #Calling a decorator\n",
    "    def base_method(func):\n",
    "        def sub_base_method():\n",
    "            print(\"Inside b-1\")\n",
    "            func()\n",
    "            print(\"Inside b-2\")\n",
    "        return sub_base_method()\n",
    "\n",
    "    def main_method():\n",
    "        print(\"Inside c\")\n",
    "    base_method(c)\n",
    "\n",
    "    #-------------------------------------\n",
    "    OUTPUT:- Inside b-1\n",
    "             Inside c\n",
    "             Inside b-2\n",
    "    #=====================================           \n",
    "\n",
    "    #defining a decorator\n",
    "\n",
    "    @base_method #Take main_method as parameter and pass it over base_method\n",
    "    def main_method():\n",
    "        print(\"Inside c\")\n",
    "\n",
    "    #-------------------------------------\n",
    "    OUTPUT:- Inside b-1\n",
    "             Inside c\n",
    "             Inside b-2"
   ]
  },
  {
   "cell_type": "code",
   "execution_count": null,
   "id": "1e023794",
   "metadata": {},
   "outputs": [],
   "source": []
  }
 ],
 "metadata": {
  "kernelspec": {
   "display_name": "Python 3",
   "language": "python",
   "name": "python3"
  },
  "language_info": {
   "codemirror_mode": {
    "name": "ipython",
    "version": 3
   },
   "file_extension": ".py",
   "mimetype": "text/x-python",
   "name": "python",
   "nbconvert_exporter": "python",
   "pygments_lexer": "ipython3",
   "version": "3.8.8"
  }
 },
 "nbformat": 4,
 "nbformat_minor": 5
}
